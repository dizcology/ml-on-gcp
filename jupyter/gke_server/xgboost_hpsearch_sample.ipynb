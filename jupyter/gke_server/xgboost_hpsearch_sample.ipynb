{
 "cells": [
  {
   "cell_type": "code",
   "execution_count": 1,
   "metadata": {},
   "outputs": [],
   "source": [
    "from xgboost import XGBClassifier\n",
    "from sklearn.datasets import fetch_mldata\n",
    "from sklearn.metrics import confusion_matrix, accuracy_score\n",
    "from skopt import BayesSearchCV\n",
    "from skopt.space import Integer, Real"
   ]
  },
  {
   "cell_type": "code",
   "execution_count": 2,
   "metadata": {},
   "outputs": [],
   "source": [
    "mnist = fetch_mldata('MNIST original', data_home='~/pd/mnist_data')\n",
    "X_train, y_train = mnist.data[:60000], mnist.target[:60000]\n",
    "\n",
    "X_test, y_test = mnist.data[60000:], mnist.target[60000:]"
   ]
  },
  {
   "cell_type": "code",
   "execution_count": 3,
   "metadata": {},
   "outputs": [],
   "source": [
    "xgbc = XGBClassifier(n_jobs=-1)"
   ]
  },
  {
   "cell_type": "code",
   "execution_count": 5,
   "metadata": {},
   "outputs": [],
   "source": [
    "search_spaces = {\n",
    "    'learning_rate': Real(0.01, 0.2),\n",
    "    'n_estimators': Integer(50, 500),\n",
    "    'subsample': Real(0.5, 1.0),\n",
    "    'min_child_weight': Integer(1, 10)\n",
    "}\n",
    "n_iter = 5\n",
    "\n",
    "search = BayesSearchCV(estimator=xgbc, search_spaces=search_spaces, n_iter=n_iter, n_jobs=-1, verbose=3)"
   ]
  },
  {
   "cell_type": "code",
   "execution_count": null,
   "metadata": {},
   "outputs": [
    {
     "name": "stderr",
     "output_type": "stream",
     "text": [
      "/opt/conda/lib/python3.6/site-packages/skopt/optimizer/optimizer.py:366: UserWarning: The objective has been evaluated at this point before.\n",
      "  warnings.warn(\"The objective has been evaluated \"\n",
      "/opt/conda/lib/python3.6/site-packages/skopt/optimizer/optimizer.py:366: UserWarning: The objective has been evaluated at this point before.\n",
      "  warnings.warn(\"The objective has been evaluated \"\n",
      "/opt/conda/lib/python3.6/site-packages/skopt/optimizer/optimizer.py:366: UserWarning: The objective has been evaluated at this point before.\n",
      "  warnings.warn(\"The objective has been evaluated \"\n",
      "/opt/conda/lib/python3.6/site-packages/skopt/optimizer/optimizer.py:366: UserWarning: The objective has been evaluated at this point before.\n",
      "  warnings.warn(\"The objective has been evaluated \"\n",
      "/opt/conda/lib/python3.6/site-packages/skopt/optimizer/optimizer.py:366: UserWarning: The objective has been evaluated at this point before.\n",
      "  warnings.warn(\"The objective has been evaluated \"\n"
     ]
    },
    {
     "name": "stdout",
     "output_type": "stream",
     "text": [
      "Fitting 3 folds for each of 64 candidates, totalling 192 fits\n",
      "[CV] learning_rate=0.141425493041, min_child_weight=3, n_estimators=92, subsample=0.734394629061 \n",
      "[CV] learning_rate=0.141425493041, min_child_weight=3, n_estimators=92, subsample=0.734394629061 \n",
      "[CV] learning_rate=0.141425493041, min_child_weight=3, n_estimators=92, subsample=0.734394629061 \n",
      "[CV] learning_rate=0.0737123720929, min_child_weight=4, n_estimators=322, subsample=0.731544025582 \n",
      "[CV] learning_rate=0.0737123720929, min_child_weight=4, n_estimators=322, subsample=0.731544025582 \n",
      "[CV] learning_rate=0.0737123720929, min_child_weight=4, n_estimators=322, subsample=0.731544025582 \n",
      "[CV] learning_rate=0.0154082330195, min_child_weight=5, n_estimators=462, subsample=0.581441554617 \n",
      "[CV] learning_rate=0.0154082330195, min_child_weight=5, n_estimators=462, subsample=0.581441554617 \n",
      "[CV] learning_rate=0.0154082330195, min_child_weight=5, n_estimators=462, subsample=0.581441554617 \n",
      "[CV] learning_rate=0.0115187197784, min_child_weight=7, n_estimators=396, subsample=0.652607570883 \n",
      "[CV] learning_rate=0.0115187197784, min_child_weight=7, n_estimators=396, subsample=0.652607570883 \n",
      "[CV] learning_rate=0.0115187197784, min_child_weight=7, n_estimators=396, subsample=0.652607570883 \n",
      "[CV] learning_rate=0.0316324034873, min_child_weight=4, n_estimators=360, subsample=0.796154665676 \n",
      "[CV] learning_rate=0.0316324034873, min_child_weight=4, n_estimators=360, subsample=0.796154665676 \n",
      "[CV] learning_rate=0.0316324034873, min_child_weight=4, n_estimators=360, subsample=0.796154665676 \n",
      "[CV] learning_rate=0.112579302909, min_child_weight=6, n_estimators=281, subsample=0.509544375115 \n",
      "[CV] learning_rate=0.112579302909, min_child_weight=6, n_estimators=281, subsample=0.509544375115 \n",
      "[CV] learning_rate=0.112579302909, min_child_weight=6, n_estimators=281, subsample=0.509544375115 \n",
      "[CV] learning_rate=0.0381385700908, min_child_weight=1, n_estimators=379, subsample=0.878251676916 \n",
      "[CV] learning_rate=0.0381385700908, min_child_weight=1, n_estimators=379, subsample=0.878251676916 \n",
      "[CV] learning_rate=0.0381385700908, min_child_weight=1, n_estimators=379, subsample=0.878251676916 \n",
      "[CV] learning_rate=0.163074960485, min_child_weight=7, n_estimators=443, subsample=0.83929401872 \n",
      "[CV] learning_rate=0.163074960485, min_child_weight=7, n_estimators=443, subsample=0.83929401872 \n",
      "[CV] learning_rate=0.163074960485, min_child_weight=7, n_estimators=443, subsample=0.83929401872 \n",
      "[CV] learning_rate=0.114752555909, min_child_weight=4, n_estimators=213, subsample=0.911890186837 \n",
      "[CV] learning_rate=0.114752555909, min_child_weight=4, n_estimators=213, subsample=0.911890186837 \n",
      "[CV] learning_rate=0.114752555909, min_child_weight=4, n_estimators=213, subsample=0.911890186837 \n",
      "[CV] learning_rate=0.0898479034506, min_child_weight=8, n_estimators=242, subsample=0.771706484719 \n",
      "[CV] learning_rate=0.0898479034506, min_child_weight=8, n_estimators=242, subsample=0.771706484719 \n",
      "[CV] learning_rate=0.0898479034506, min_child_weight=8, n_estimators=242, subsample=0.771706484719 \n",
      "[CV] learning_rate=0.195951033429, min_child_weight=10, n_estimators=64, subsample=0.500184182882 \n",
      "[CV] learning_rate=0.195951033429, min_child_weight=10, n_estimators=64, subsample=0.500184182882 \n",
      "[CV] learning_rate=0.195951033429, min_child_weight=10, n_estimators=64, subsample=0.500184182882 \n",
      "[CV] learning_rate=0.196035354464, min_child_weight=9, n_estimators=499, subsample=0.995688060253 \n",
      "[CV] learning_rate=0.196035354464, min_child_weight=9, n_estimators=499, subsample=0.995688060253 \n",
      "[CV] learning_rate=0.196035354464, min_child_weight=9, n_estimators=499, subsample=0.995688060253 \n",
      "[CV] learning_rate=0.180166486385, min_child_weight=1, n_estimators=63, subsample=0.981789847247 \n",
      "[CV] learning_rate=0.180166486385, min_child_weight=1, n_estimators=63, subsample=0.981789847247 \n",
      "[CV] learning_rate=0.180166486385, min_child_weight=1, n_estimators=63, subsample=0.981789847247 \n",
      "[CV] learning_rate=0.0127096348098, min_child_weight=9, n_estimators=56, subsample=0.999206402474 \n",
      "[CV] learning_rate=0.0127096348098, min_child_weight=9, n_estimators=56, subsample=0.999206402474 \n",
      "[CV] learning_rate=0.0127096348098, min_child_weight=9, n_estimators=56, subsample=0.999206402474 \n",
      "[CV] learning_rate=0.19927157768, min_child_weight=10, n_estimators=63, subsample=0.527355346361 \n",
      "[CV] learning_rate=0.19927157768, min_child_weight=10, n_estimators=63, subsample=0.527355346361 \n",
      "[CV] learning_rate=0.19927157768, min_child_weight=10, n_estimators=63, subsample=0.527355346361 \n",
      "[CV] learning_rate=0.2, min_child_weight=1, n_estimators=500, subsample=0.5 \n",
      "[CV] learning_rate=0.2, min_child_weight=1, n_estimators=500, subsample=0.5 \n",
      "[CV] learning_rate=0.2, min_child_weight=1, n_estimators=500, subsample=0.5 \n",
      "[CV] learning_rate=0.0160510615835, min_child_weight=1, n_estimators=81, subsample=0.521006823179 \n",
      "[CV] learning_rate=0.0160510615835, min_child_weight=1, n_estimators=81, subsample=0.521006823179 \n",
      "[CV] learning_rate=0.0160510615835, min_child_weight=1, n_estimators=81, subsample=0.521006823179 \n",
      "[CV] learning_rate=0.193515317727, min_child_weight=10, n_estimators=494, subsample=0.959326547592 \n",
      "[CV] learning_rate=0.193515317727, min_child_weight=10, n_estimators=494, subsample=0.959326547592 \n",
      "[CV] learning_rate=0.193515317727, min_child_weight=10, n_estimators=494, subsample=0.959326547592 \n",
      "[CV] learning_rate=0.01, min_child_weight=10, n_estimators=50, subsample=1.0 \n",
      "[CV] learning_rate=0.01, min_child_weight=10, n_estimators=50, subsample=1.0 \n",
      "[CV] learning_rate=0.01, min_child_weight=10, n_estimators=50, subsample=1.0 \n",
      "[CV] learning_rate=0.01, min_child_weight=10, n_estimators=500, subsample=0.5 \n",
      "[CV] learning_rate=0.01, min_child_weight=10, n_estimators=500, subsample=0.5 \n",
      "[CV] learning_rate=0.01, min_child_weight=10, n_estimators=500, subsample=0.5 \n",
      "[CV] learning_rate=0.0108428895619, min_child_weight=1, n_estimators=498, subsample=0.97503160199 \n",
      "[CV] learning_rate=0.0108428895619, min_child_weight=1, n_estimators=498, subsample=0.97503160199 \n",
      "[CV] learning_rate=0.0108428895619, min_child_weight=1, n_estimators=498, subsample=0.97503160199 \n",
      "[CV] learning_rate=0.2, min_child_weight=1, n_estimators=50, subsample=1.0 \n"
     ]
    }
   ],
   "source": [
    "%time search.fit(X_train, y_train)"
   ]
  },
  {
   "cell_type": "code",
   "execution_count": 8,
   "metadata": {},
   "outputs": [
    {
     "data": {
      "text/plain": [
       "(XGBClassifier(base_score=0.5, booster='gbtree', colsample_bylevel=1,\n",
       "        colsample_bytree=1, gamma=0, learning_rate=0.2026360833258897,\n",
       "        max_delta_step=0, max_depth=3, min_child_weight=6, missing=None,\n",
       "        n_estimators=437, n_jobs=-1, nthread=None,\n",
       "        objective='multi:softprob', random_state=0, reg_alpha=0,\n",
       "        reg_lambda=1, scale_pos_weight=1, seed=None, silent=True,\n",
       "        subsample=0.52847818048127726),\n",
       " {'learning_rate': 0.2026360833258897,\n",
       "  'min_child_weight': 6,\n",
       "  'n_estimators': 437,\n",
       "  'subsample': 0.52847818048127726})"
      ]
     },
     "execution_count": 8,
     "metadata": {},
     "output_type": "execute_result"
    }
   ],
   "source": [
    "search.best_estimator_, search.best_params_"
   ]
  },
  {
   "cell_type": "code",
   "execution_count": 11,
   "metadata": {},
   "outputs": [
    {
     "data": {
      "text/plain": [
       "array([[ 968,    0,    1,    0,    0,    2,    5,    1,    3,    0],\n",
       "       [   0, 1126,    2,    1,    0,    1,    3,    0,    2,    0],\n",
       "       [   3,    0, 1006,    6,    4,    0,    1,    6,    6,    0],\n",
       "       [   1,    0,    5,  988,    0,    3,    0,    5,    4,    4],\n",
       "       [   2,    0,    5,    1,  959,    0,    2,    0,    2,   11],\n",
       "       [   2,    0,    1,    8,    0,  869,    7,    1,    3,    1],\n",
       "       [   7,    2,    0,    0,    1,    3,  939,    1,    5,    0],\n",
       "       [   1,    1,   11,    5,    1,    0,    0,  996,    2,   11],\n",
       "       [   5,    1,    4,    3,    3,    1,    1,    3,  949,    4],\n",
       "       [   2,    6,    1,    5,   11,    1,    0,    3,    3,  977]])"
      ]
     },
     "execution_count": 11,
     "metadata": {},
     "output_type": "execute_result"
    }
   ],
   "source": [
    "confusion_matrix(y_test, search.predict(X_test))"
   ]
  },
  {
   "cell_type": "code",
   "execution_count": 12,
   "metadata": {},
   "outputs": [
    {
     "data": {
      "text/plain": [
       "0.97770000000000001"
      ]
     },
     "execution_count": 12,
     "metadata": {},
     "output_type": "execute_result"
    }
   ],
   "source": [
    "accuracy_score(y_test, search.predict(X_test))"
   ]
  },
  {
   "cell_type": "code",
   "execution_count": null,
   "metadata": {},
   "outputs": [],
   "source": []
  }
 ],
 "metadata": {
  "kernelspec": {
   "display_name": "Python 3",
   "language": "python",
   "name": "python3"
  },
  "language_info": {
   "codemirror_mode": {
    "name": "ipython",
    "version": 3
   },
   "file_extension": ".py",
   "mimetype": "text/x-python",
   "name": "python",
   "nbconvert_exporter": "python",
   "pygments_lexer": "ipython3",
   "version": "3.6.3"
  }
 },
 "nbformat": 4,
 "nbformat_minor": 2
}
